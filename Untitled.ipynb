{
 "cells": [
  {
   "cell_type": "code",
   "execution_count": 23,
   "metadata": {
    "collapsed": false
   },
   "outputs": [
    {
     "name": "stdout",
     "output_type": "stream",
     "text": [
      "Populating the interactive namespace from numpy and matplotlib\n"
     ]
    }
   ],
   "source": [
    "%pylab inline\n",
    "import re"
   ]
  },
  {
   "cell_type": "code",
   "execution_count": 4,
   "metadata": {
    "collapsed": false
   },
   "outputs": [
    {
     "name": "stdout",
     "output_type": "stream",
     "text": [
      "20160116S1-FORZA_16_Asics_Black.txt 20160116S2-LAVA_North_16_Adidas.txt\r\n",
      "20160116S1-LAVA_North_16_Adidas.txt 20160116S2-SCVC_16_1.txt\r\n",
      "20160116S1-SCVC_16_1.txt            20160116S3-SCVC_16_1.txt\r\n",
      "20160116S2-FORZA_16_Asics_Black.txt\r\n"
     ]
    }
   ],
   "source": [
    "!ls \\data"
   ]
  },
  {
   "cell_type": "code",
   "execution_count": 35,
   "metadata": {
    "collapsed": false
   },
   "outputs": [
    {
     "name": "stdout",
     "output_type": "stream",
     "text": [
      "0-02Sv\r\n",
      "1-02Sv9Batt\r\n",
      "1-115P0\r\n",
      "1-215P32S+23Ae\r\n",
      "1-39P0\r\n",
      "1-44P32S6A\r\n",
      "1-54P32S9A2D6S23Ae\r\n",
      "1-66P32S+9Ae\r\n",
      "t/o home\r\n",
      "1-715P32S6Ak\r\n",
      "2-73Sv9B15BA\r\n",
      "3-73Sv3P32S+9Ae\r\n",
      "3-83P22S+23A23Be\r\n",
      "3-94P22S23A\r\n",
      "3-103P32S9Ak\r\n",
      "4-109Sv3P32S15Ak\r\n",
      "5-109Sva\r\n",
      "6-109Sv3P2S15A\r\n",
      "6-1115P32S15Ak\r\n",
      "7-1114Sva\r\n",
      "8-1114Sv\r\n",
      "t/o opponent\r\n",
      "9-1114Sv3P32S11Ak\r\n",
      "10-1114Sva\r\n",
      "11-1114Sv4P2S1515Ak\r\n",
      "12-1114Sv11B\r\n",
      "13-1114Sv11Batt11B+2BA\r\n",
      "14-1114Sv4De\r\n",
      "14-124P1\r\n",
      "14-13\r\n",
      "15-1315Sv15P32Ak\r\n",
      "16-1315Sv4P32S11Ak\r\n",
      "17-1315Sve\r\n",
      "17-14\r\n",
      "18-1414D2S6Ae\r\n",
      "18-1515P32S9Ak\r\n",
      "19-152Sv\r\n",
      "19-164P32S6A4D\r\n",
      "19-174P22S23Ae\r\n",
      "19-184P0\r\n",
      "19-196P0\r\n",
      "19-20  11A14A9B\r\n",
      "20-203Sv\r\n",
      "21-203Sv 2S15Ak\r\n",
      "22-203SvA\r\n",
      "t/o opponent\r\n",
      "23-203Sv\r\n",
      "23-213P1\r\n",
      "24-219Sve\r\n",
      "24-224p12S14Ae\r\n",
      "24-234P2S\r\n",
      "\r\n"
     ]
    }
   ],
   "source": [
    "!cat data/20160116S1-LAVA_North_16_Adidas.txt | tr -d '.-.|'"
   ]
  },
  {
   "cell_type": "code",
   "execution_count": null,
   "metadata": {
    "collapsed": true
   },
   "outputs": [],
   "source": []
  }
 ],
 "metadata": {
  "kernelspec": {
   "display_name": "Python 2",
   "language": "python",
   "name": "python2"
  },
  "language_info": {
   "codemirror_mode": {
    "name": "ipython",
    "version": 2
   },
   "file_extension": ".py",
   "mimetype": "text/x-python",
   "name": "python",
   "nbconvert_exporter": "python",
   "pygments_lexer": "ipython2",
   "version": "2.7.10"
  }
 },
 "nbformat": 4,
 "nbformat_minor": 0
}
